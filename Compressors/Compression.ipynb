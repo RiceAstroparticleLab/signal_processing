{
 "cells": [
  {
   "cell_type": "markdown",
   "metadata": {},
   "source": [
    "# XENON Compression Solution Analysis"
   ]
  },
  {
   "cell_type": "markdown",
   "metadata": {},
   "source": [
    "Sam Li, Rice AstroParticle Lab\n",
    "\n",
    "Jul 31, 2020\n",
    "\n",
    "In this notebook we are going to see all the available compression solutions for XENON data. Given giant amount of data (PBs) we have to deal with, effectively reducing the size of data in storage is crucial for us. Down below we will examine lossless compression algorithms first, then compression using hard thresholding, and finally to Compressive Sensing if possible. "
   ]
  },
  {
   "cell_type": "markdown",
   "metadata": {},
   "source": [
    "# 1. Loseless Compression\n",
    "\n",
    "In strax, there are already four existing compression solutions, namely ztsd, blosc and lz4. Beyond that, we are also going to look at LZMA and zlib compression, and perform speed & performance analysis on all of them. "
   ]
  },
  {
   "cell_type": "code",
   "execution_count": 1,
   "metadata": {},
   "outputs": [],
   "source": [
    "import lzma\n",
    "import numpy as np\n",
    "import matplotlib.pyplot as plt\n",
    "import sys\n",
    "import struct"
   ]
  },
  {
   "cell_type": "code",
   "execution_count": 2,
   "metadata": {},
   "outputs": [],
   "source": [
    "import strax\n",
    "import straxen\n",
    "import blosc\n",
    "import zlib\n",
    "import zstd"
   ]
  },
  {
   "cell_type": "code",
   "execution_count": 3,
   "metadata": {},
   "outputs": [],
   "source": [
    "#Load the data\n",
    "st = straxen.contexts.xenon1t_dali()\n",
    "rr = st.get_array('180215_1029','raw_records', seconds_range=(0, 5))\n",
    "\n",
    "#Using seconds range 0-1 to ensure we have enough large samples"
   ]
  },
  {
   "cell_type": "code",
   "execution_count": 4,
   "metadata": {},
   "outputs": [],
   "source": [
    "#Processing\n",
    "r = strax.raw_to_records(rr)\n",
    "strax.baseline(r)"
   ]
  },
  {
   "cell_type": "code",
   "execution_count": 34,
   "metadata": {},
   "outputs": [
    {
     "name": "stdout",
     "output_type": "stream",
     "text": [
      "time\n",
      "(dtype('int64'), 0, 'Start time since unix epoch [ns]')\n",
      "length\n",
      "(dtype('int32'), 8, 'Length of the interval in samples')\n",
      "dt\n",
      "(dtype('int16'), 12, 'Width of one sample [ns]')\n",
      "channel\n",
      "(dtype('int16'), 14, 'Channel/PMT number')\n",
      "pulse_length\n",
      "(dtype('int32'), 16, 'Length of pulse to which the record belongs (without zero-padding)')\n",
      "record_i\n",
      "(dtype('int16'), 20, 'Fragment number in the pulse')\n",
      "area\n",
      "(dtype('int32'), 22, 'Integral in ADC counts x samples')\n",
      "reduction_level\n",
      "(dtype('uint8'), 26, 'Level of data reduction applied (strax.ReductionLevel enum)')\n",
      "baseline\n",
      "(dtype('float32'), 27, 'Baseline in ADC counts. data = int(baseline) - data_orig')\n",
      "baseline_rms\n",
      "(dtype('float32'), 31, 'Baseline RMS in ADC counts. data = baseline - data_orig')\n",
      "amplitude_bit_shift\n",
      "(dtype('int16'), 35, 'Multiply data by 2**(this number). Baseline is unaffected.')\n",
      "data\n",
      "(dtype(('<i2', (110,))), 37, 'Waveform data in raw counts above integer part of baseline')\n",
      "total bytes: 257\n",
      "header bytes: 37\n",
      "data bytes: 220\n"
     ]
    }
   ],
   "source": [
    "#Let's also take a look at the datatype of records\n",
    "records = r\n",
    "np.save(\"records.npy\", records)\n",
    "dtype = records.dtype\n",
    "\n",
    "for name in dtype.names:\n",
    "    print(name)\n",
    "    print(dtype.fields[name])\n",
    "\n",
    "print('total bytes: %d' % dtype.itemsize)\n",
    "print('header bytes: %d' % (dtype.itemsize - len(records[0][-1].tobytes())))\n",
    "print('data bytes: %d' % len(records[0][-1].tobytes()))"
   ]
  },
  {
   "cell_type": "markdown",
   "metadata": {},
   "source": [
    "# 1.1 LZMA Compression"
   ]
  },
  {
   "cell_type": "markdown",
   "metadata": {},
   "source": [
    "Okay, now let's do some real compression. The first library we are going to use is LZMA. Since the header portion of a sample (fields contains information such as time, channel etc.) is different from the data field of the sample (110 length array), we initally thought it might be a good idea to seperate and compress them seperately. Let's see the outcomes. "
   ]
  },
  {
   "cell_type": "code",
   "execution_count": 82,
   "metadata": {},
   "outputs": [
    {
     "name": "stdout",
     "output_type": "stream",
     "text": [
      "LZMA compression (627699 records):\n",
      "0.2587785252446309\n",
      "LZMA compression ratio (approx) for header:\n",
      "0.2177556486447502\n"
     ]
    }
   ],
   "source": [
    "all_data = []\n",
    "for record in records:\n",
    "    # ignore trailing zeros\n",
    "    data = record[-1][:record[1]]\n",
    "    all_data.append(data)\n",
    "    \n",
    "#print (all_data)\n",
    "print('LZMA compression (%d records):' % len(records))\n",
    "ravel_data = np.concatenate(all_data)\n",
    "lzma_ravel_data = lzma.compress(ravel_data.tobytes())\n",
    "\n",
    "print (len(lzma_ravel_data) / len(ravel_data.tobytes()))\n",
    "\n",
    "print('LZMA compression ratio (approx) for header:')\n",
    "lzma_records = lzma.compress(records.tobytes())\n",
    "print ((len(lzma_records) - len(lzma_ravel_data)) / (len(records.tobytes()) - len(ravel_data.tobytes())))"
   ]
  },
  {
   "cell_type": "markdown",
   "metadata": {},
   "source": [
    "It seems for shorter datatypes (headers), the compression ratio is higher. However the compression ratios are not largely different. Moreover, if we seperate the data and header apart from a sample, recovering it will be harder after decompression; and if records is large enough, we might end up using extra computation resources. Therefore, for the rest of this notebook, we will compress records as a whole. "
   ]
  },
  {
   "cell_type": "code",
   "execution_count": 15,
   "metadata": {},
   "outputs": [
    {
     "name": "stdout",
     "output_type": "stream",
     "text": [
      "CPU times: user 1min 47s, sys: 247 ms, total: 1min 47s\n",
      "Wall time: 1min 47s\n"
     ]
    }
   ],
   "source": [
    "%%time\n",
    "compressed = lzma.compress(records)"
   ]
  },
  {
   "cell_type": "code",
   "execution_count": 16,
   "metadata": {},
   "outputs": [
    {
     "name": "stdout",
     "output_type": "stream",
     "text": [
      "40032276\n",
      "161318643\n",
      "0.24815653823718317\n"
     ]
    }
   ],
   "source": [
    "print (len(compressed))\n",
    "print (len(records.tobytes()))\n",
    "print (len(compressed)/float(len(records.tobytes())))"
   ]
  },
  {
   "cell_type": "markdown",
   "metadata": {},
   "source": [
    "It took 107 seconds for LZMA to compress a 161318643 Bytes (161 MB) Numpy Array, therefore we have the following statistics for LMZA:"
   ]
  },
  {
   "cell_type": "code",
   "execution_count": 17,
   "metadata": {},
   "outputs": [
    {
     "name": "stdout",
     "output_type": "stream",
     "text": [
      "Compression Ratio: 4.0297144983712645x\n",
      "Compression Speed: 1.5076508691588786 MB/Second\n"
     ]
    }
   ],
   "source": [
    "print (\"Compression Ratio: \" + str(float(len(records.tobytes()))/len(compressed)) + \"x\")\n",
    "print (\"Compression Speed: \" + str(161318643/107e6) + \" MB/Second\")"
   ]
  },
  {
   "cell_type": "code",
   "execution_count": 18,
   "metadata": {},
   "outputs": [
    {
     "name": "stdout",
     "output_type": "stream",
     "text": [
      "(1518690592000028370, 102, 10, 96, 102, 0, 0, 0, 16001.725, 2.2134533, 0, [ 2,  0,  2,  2,  1, -1,  0, -5, -5, -6, -2, -5, -3, -3, -1,  0,  4,  1, -1, -2,  2,  2,  2, -1, -2, -2, -1, -3, -2, -1,  0, -2, -1,  0,  1,  0,  0, -1,  2,  0, -1, -3,  0, -2,  0, -4, -1, -2,  0, -2, 92, 53, 16,  7,  5,  5,  8,  3,  4, -1, -2,  2,  1,  1, -1,  0, -2, -2,  0,  0,  2, -1, -1, -2,  1, -2, -2, -3, -2, -1, -2, -3, -4, -5, -3, -3,  0, -4, -1, -3,  0,  0,  2, -1, -1, -3, -2, -3, -1, -3, -2, -3,  0,  0,  0,  0,  0,  0,  0,  0])\n",
      "CPU times: user 2.09 s, sys: 92 ms, total: 2.19 s\n",
      "Wall time: 2.19 s\n"
     ]
    }
   ],
   "source": [
    "%%time\n",
    "#Decompression is easy:\n",
    "recovered_bytes= lzma.decompress(compressed)\n",
    "decompressed = np.frombuffer(recovered_bytes, dtype=records.dtype)\n",
    "print (decompressed[0])"
   ]
  },
  {
   "cell_type": "markdown",
   "metadata": {},
   "source": [
    "Hence, we also obtained the following statistics for LZMA:"
   ]
  },
  {
   "cell_type": "code",
   "execution_count": 19,
   "metadata": {},
   "outputs": [
    {
     "name": "stdout",
     "output_type": "stream",
     "text": [
      "Decompression Speed: 19.1541990430622 MB/Second\n"
     ]
    }
   ],
   "source": [
    "print (\"Decompression Speed: \" + str(40032276/2.09e6) + \" MB/Second\")"
   ]
  },
  {
   "cell_type": "markdown",
   "metadata": {},
   "source": [
    "Now let's try some other compression methods:"
   ]
  },
  {
   "cell_type": "markdown",
   "metadata": {},
   "source": [
    "# 1.2 Blosc Compression"
   ]
  },
  {
   "cell_type": "code",
   "execution_count": 25,
   "metadata": {},
   "outputs": [
    {
     "name": "stdout",
     "output_type": "stream",
     "text": [
      "Compression Ratio: 1.4821795444271713x\n",
      "CPU times: user 1.12 s, sys: 48 ms, total: 1.17 s\n",
      "Wall time: 303 ms\n"
     ]
    }
   ],
   "source": [
    "%%time\n",
    "blosc_compressed = blosc.compress(records)\n",
    "print (\"Compression Ratio: \" + str(float(161318643)/len(blosc_compressed)) + \"x\")"
   ]
  },
  {
   "cell_type": "code",
   "execution_count": 26,
   "metadata": {},
   "outputs": [
    {
     "name": "stdout",
     "output_type": "stream",
     "text": [
      "Compression Speed: 144.03450267857144 MB/Second\n"
     ]
    }
   ],
   "source": [
    "print (\"Compression Speed: \" + str(161318643/1.12e6) + \" MB/Second\")"
   ]
  },
  {
   "cell_type": "code",
   "execution_count": 23,
   "metadata": {},
   "outputs": [
    {
     "name": "stdout",
     "output_type": "stream",
     "text": [
      "CPU times: user 641 ms, sys: 88 ms, total: 729 ms\n",
      "Wall time: 195 ms\n"
     ]
    }
   ],
   "source": [
    "%%time\n",
    "blosc_decompressed = blosc.decompress(blosc_compressed)"
   ]
  },
  {
   "cell_type": "code",
   "execution_count": 24,
   "metadata": {},
   "outputs": [
    {
     "name": "stdout",
     "output_type": "stream",
     "text": [
      "Decompression Speed: 169.7953198127925 MB/Second\n"
     ]
    }
   ],
   "source": [
    "print (\"Decompression Speed: \" + str(len(blosc_compressed)/0.641e6) + \" MB/Second\")"
   ]
  },
  {
   "cell_type": "markdown",
   "metadata": {},
   "source": [
    "# 1.3 ZLIB Compression"
   ]
  },
  {
   "cell_type": "code",
   "execution_count": 28,
   "metadata": {},
   "outputs": [
    {
     "name": "stdout",
     "output_type": "stream",
     "text": [
      "Compression Ratio: 3.14336746418953x\n",
      "CPU times: user 10.8 s, sys: 68.1 ms, total: 10.8 s\n",
      "Wall time: 10.8 s\n"
     ]
    }
   ],
   "source": [
    "%%time\n",
    "zlib_compressed = zlib.compress(records)\n",
    "print (\"Compression Ratio: \" + str(float(161318643)/len(zlib_compressed)) + \"x\")"
   ]
  },
  {
   "cell_type": "code",
   "execution_count": 29,
   "metadata": {},
   "outputs": [
    {
     "name": "stdout",
     "output_type": "stream",
     "text": [
      "Compression Speed: 14.93691138888889 MB/Second\n"
     ]
    }
   ],
   "source": [
    "print (\"Compression Speed: \" + str(161318643/10.8e6) + \" MB/Second\")"
   ]
  },
  {
   "cell_type": "code",
   "execution_count": 30,
   "metadata": {},
   "outputs": [
    {
     "name": "stdout",
     "output_type": "stream",
     "text": [
      "CPU times: user 575 ms, sys: 84 ms, total: 659 ms\n",
      "Wall time: 657 ms\n"
     ]
    }
   ],
   "source": [
    "%%time\n",
    "zlib_decompressed = zlib.decompress(zlib_compressed)"
   ]
  },
  {
   "cell_type": "code",
   "execution_count": 31,
   "metadata": {},
   "outputs": [
    {
     "name": "stdout",
     "output_type": "stream",
     "text": [
      "Decompression Speed: 89.25274086956522 MB/Second\n"
     ]
    }
   ],
   "source": [
    "print (\"Decompression Speed: \" + str(len(zlib_compressed)/0.575e6) + \" MB/Second\")"
   ]
  },
  {
   "cell_type": "markdown",
   "metadata": {},
   "source": [
    "# 1.4 lz4 Compression"
   ]
  },
  {
   "cell_type": "code",
   "execution_count": 36,
   "metadata": {},
   "outputs": [
    {
     "name": "stdout",
     "output_type": "stream",
     "text": [
      "Compression Ratio: 2.0344878993740783x\n",
      "CPU times: user 567 ms, sys: 84 ms, total: 651 ms\n",
      "Wall time: 648 ms\n"
     ]
    }
   ],
   "source": [
    "%%time\n",
    "import lz4\n",
    "lz4_compressed = lz4.frame.compress(records)\n",
    "print (\"Compression Ratio: \" + str(float(161318643)/len(lz4_compressed)) + \"x\")"
   ]
  },
  {
   "cell_type": "code",
   "execution_count": 37,
   "metadata": {},
   "outputs": [
    {
     "name": "stdout",
     "output_type": "stream",
     "text": [
      "Compression Speed: 284.5125978835979 MB/Second\n"
     ]
    }
   ],
   "source": [
    "print (\"Compression Speed: \" + str(161318643/0.567e6) + \" MB/Second\")"
   ]
  },
  {
   "cell_type": "code",
   "execution_count": 38,
   "metadata": {},
   "outputs": [
    {
     "name": "stdout",
     "output_type": "stream",
     "text": [
      "CPU times: user 159 ms, sys: 192 ms, total: 351 ms\n",
      "Wall time: 347 ms\n"
     ]
    }
   ],
   "source": [
    "%%time\n",
    "lz4_decompressed = lz4.frame.decompress(lz4_compressed)"
   ]
  },
  {
   "cell_type": "code",
   "execution_count": 39,
   "metadata": {},
   "outputs": [
    {
     "name": "stdout",
     "output_type": "stream",
     "text": [
      "Decompression Speed: 498.69191194968556 MB/Second\n"
     ]
    }
   ],
   "source": [
    "print (\"Decompression Speed: \" + str(len(lz4_compressed)/0.159e6) + \" MB/Second\")"
   ]
  },
  {
   "cell_type": "markdown",
   "metadata": {},
   "source": [
    "# 1.5 Zstd Compression"
   ]
  },
  {
   "cell_type": "code",
   "execution_count": 42,
   "metadata": {},
   "outputs": [
    {
     "name": "stdout",
     "output_type": "stream",
     "text": [
      "Compression Ratio: 3.255538973217942x\n",
      "CPU times: user 1.7 s, sys: 228 ms, total: 1.93 s\n",
      "Wall time: 180 ms\n"
     ]
    },
    {
     "name": "stderr",
     "output_type": "stream",
     "text": [
      "<timed exec>:1: DeprecationWarning: PY_SSIZE_T_CLEAN will be required for '#' formats\n"
     ]
    }
   ],
   "source": [
    "%%time\n",
    "zstd_compressed = zstd.compress(records)\n",
    "print (\"Compression Ratio: \" + str(float(161318643)/len(zstd_compressed)) + \"x\")"
   ]
  },
  {
   "cell_type": "code",
   "execution_count": 43,
   "metadata": {},
   "outputs": [
    {
     "name": "stdout",
     "output_type": "stream",
     "text": [
      "Compression Speed: 94.89331941176471 MB/Second\n"
     ]
    }
   ],
   "source": [
    "print (\"Compression Speed: \" + str(161318643/1.7e6) + \" MB/Second\")"
   ]
  },
  {
   "cell_type": "code",
   "execution_count": 44,
   "metadata": {},
   "outputs": [
    {
     "name": "stderr",
     "output_type": "stream",
     "text": [
      "<timed exec>:1: DeprecationWarning: PY_SSIZE_T_CLEAN will be required for '#' formats\n"
     ]
    },
    {
     "name": "stdout",
     "output_type": "stream",
     "text": [
      "CPU times: user 263 ms, sys: 76 ms, total: 339 ms\n",
      "Wall time: 336 ms\n"
     ]
    }
   ],
   "source": [
    "%%time\n",
    "zstd_decompressed = zstd.decompress(zstd_compressed)"
   ]
  },
  {
   "cell_type": "code",
   "execution_count": 46,
   "metadata": {},
   "outputs": [
    {
     "name": "stdout",
     "output_type": "stream",
     "text": [
      "Decompression Speed: 188.41085171102662 MB/Second\n"
     ]
    }
   ],
   "source": [
    "print (\"Decompression Speed: \" + str(len(zstd_compressed)/0.263e6) + \" MB/Second\")"
   ]
  },
  {
   "cell_type": "markdown",
   "metadata": {},
   "source": [
    "# 1.6 gzip Compression"
   ]
  },
  {
   "cell_type": "code",
   "execution_count": 52,
   "metadata": {},
   "outputs": [],
   "source": [
    "import timeit\n",
    "start_time = timeit.default_timer()\n",
    "import gzip\n",
    "f = gzip.GzipFile(\"records.gz\", \"w\")\n",
    "np.save(file=f, arr=records)\n",
    "f.close()\n",
    "elapsed = timeit.default_timer() - start_time"
   ]
  },
  {
   "cell_type": "code",
   "execution_count": 57,
   "metadata": {},
   "outputs": [
    {
     "name": "stdout",
     "output_type": "stream",
     "text": [
      "64.92587907798588\n",
      "Compression Ratio: 3.1672920314742576x\n",
      "Compression Speed: 2.4846585874675906 MB/Second\n"
     ]
    }
   ],
   "source": [
    "print (elapsed)\n",
    "def getSize(fileobject):\n",
    "    fileobject.seek(0,2) # move the cursor to the end of the file\n",
    "    size = fileobject.tell()\n",
    "    return size\n",
    "\n",
    "file = open('records.gz', 'rb')\n",
    "\n",
    "print (\"Compression Ratio: \" + str(float(161318643)/getSize(file)) + \"x\")\n",
    "print (\"Compression Speed: \" + str(161318643.0/(elapsed*1e6)) + \" MB/Second\")"
   ]
  },
  {
   "cell_type": "markdown",
   "metadata": {},
   "source": [
    "# 1.7 Summary"
   ]
  },
  {
   "cell_type": "code",
   "execution_count": 72,
   "metadata": {},
   "outputs": [],
   "source": [
    "compression_ratios = [4.0297144983712645, 1.4821795444271713, 3.14336746418953, \n",
    "                      2.0344878993740783, 3.255538973217942, 3.1672920314742576]\n",
    "compression_speeds = [1.5076508691588786,144.03450267857144,14.93691138888889, \n",
    "                     284.5125978835979,94.89331941176471,2.4846585874675906]\n",
    "names = [\"LZMA\", \"blosc\", \"ZLIB\", \"lz4\", \"zstd\", \"gzip\"]"
   ]
  },
  {
   "cell_type": "code",
   "execution_count": 81,
   "metadata": {},
   "outputs": [
    {
     "data": {
      "image/png": "[encoded data removed]",
      "text/plain": [
       "<Figure size 432x288 with 1 Axes>"
      ]
     },
     "metadata": {
      "needs_background": "light"
     },
     "output_type": "display_data"
    },
    {
     "data": {
      "image/png": "[encoded data removed]",
      "text/plain": [
       "<Figure size 432x288 with 1 Axes>"
      ]
     },
     "metadata": {
      "needs_background": "light"
     },
     "output_type": "display_data"
    }
   ],
   "source": [
    "plt.bar(names, height=compression_ratios)\n",
    "plt.title(\"Compression Ratio for a 161MB Large Run using Different Compression Tools\")\n",
    "plt.xlabel(\"Compression Tools\")\n",
    "plt.ylabel(\"Compression Ratios\")\n",
    "plt.show()\n",
    "\n",
    "plt.bar(names, height=compression_speeds)\n",
    "plt.title(\"Compression Speed for a 161MB Large Run using Different Compression Tools\")\n",
    "plt.xlabel(\"Compression Tools\")\n",
    "plt.ylabel(\"Compression Speeds: MB/s\")\n",
    "plt.show()"
   ]
  },
  {
   "cell_type": "markdown",
   "metadata": {},
   "source": [
    "Therefore, as we can see above, LZMA has the highest lostless compression rate, while having the slowest compression speed; Gzip has slighly lower compression rate, and similar speed to LZMA. ZLIB and zstd have similar compression ratio as Gzip, while ZLIB is 10x faster and zstd is 100x faster. Finally blosc and lz4 are ~200x faster than LZMA, but are only able to compress down to 50%-60% of original size. \n",
    "\n",
    "In conclusion, LMZA provides max data size reduction and requires longer runtime. On average ZLIB and zstd are better options with moderate speed. To pursue maximum processing speed, one should consider lz4. "
   ]
  }
 ],
 "metadata": {
  "kernelspec": {
   "display_name": "Python 3",
   "language": "python",
   "name": "python3"
  },
  "language_info": {
   "codemirror_mode": {
    "name": "ipython",
    "version": 3
   },
   "file_extension": ".py",
   "mimetype": "text/x-python",
   "name": "python",
   "nbconvert_exporter": "python",
   "pygments_lexer": "ipython3",
   "version": "3.8.1"
  }
 },
 "nbformat": 4,
 "nbformat_minor": 4
}
